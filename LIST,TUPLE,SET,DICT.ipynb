{
 "cells": [
  {
   "cell_type": "code",
   "execution_count": 1,
   "id": "0cff0098",
   "metadata": {},
   "outputs": [
    {
     "ename": "SyntaxError",
     "evalue": "invalid syntax (2686564902.py, line 1)",
     "output_type": "error",
     "traceback": [
      "\u001b[1;36m  Cell \u001b[1;32mIn[1], line 1\u001b[1;36m\u001b[0m\n\u001b[1;33m    def=100\u001b[0m\n\u001b[1;37m       ^\u001b[0m\n\u001b[1;31mSyntaxError\u001b[0m\u001b[1;31m:\u001b[0m invalid syntax\n"
     ]
    }
   ],
   "source": [
    "def=100"
   ]
  },
  {
   "cell_type": "code",
   "execution_count": 2,
   "id": "8f70a68e",
   "metadata": {},
   "outputs": [
    {
     "ename": "NameError",
     "evalue": "name 'aa' is not defined",
     "output_type": "error",
     "traceback": [
      "\u001b[1;31m---------------------------------------------------------------------------\u001b[0m",
      "\u001b[1;31mNameError\u001b[0m                                 Traceback (most recent call last)",
      "Cell \u001b[1;32mIn[2], line 1\u001b[0m\n\u001b[1;32m----> 1\u001b[0m aa\u001b[38;5;241m@\u001b[39m\u001b[38;5;241m=\u001b[39m\u001b[38;5;241m100\u001b[39m\n",
      "\u001b[1;31mNameError\u001b[0m: name 'aa' is not defined"
     ]
    }
   ],
   "source": [
    "aa@=100"
   ]
  },
  {
   "cell_type": "code",
   "execution_count": 3,
   "id": "715352a4",
   "metadata": {},
   "outputs": [
    {
     "ename": "SyntaxError",
     "evalue": "invalid decimal literal (312447034.py, line 1)",
     "output_type": "error",
     "traceback": [
      "\u001b[1;36m  Cell \u001b[1;32mIn[3], line 1\u001b[1;36m\u001b[0m\n\u001b[1;33m    2hi=100\u001b[0m\n\u001b[1;37m    ^\u001b[0m\n\u001b[1;31mSyntaxError\u001b[0m\u001b[1;31m:\u001b[0m invalid decimal literal\n"
     ]
    }
   ],
   "source": [
    "2hi=100"
   ]
  },
  {
   "cell_type": "code",
   "execution_count": 4,
   "id": "05a6a698",
   "metadata": {},
   "outputs": [
    {
     "ename": "SyntaxError",
     "evalue": "invalid syntax (3736172829.py, line 1)",
     "output_type": "error",
     "traceback": [
      "\u001b[1;36m  Cell \u001b[1;32mIn[4], line 1\u001b[1;36m\u001b[0m\n\u001b[1;33m    hello world=\"welcome\"\u001b[0m\n\u001b[1;37m          ^\u001b[0m\n\u001b[1;31mSyntaxError\u001b[0m\u001b[1;31m:\u001b[0m invalid syntax\n"
     ]
    }
   ],
   "source": [
    "hello world=\"welcome\""
   ]
  },
  {
   "cell_type": "code",
   "execution_count": 5,
   "id": "38bbfdf9",
   "metadata": {},
   "outputs": [],
   "source": [
    "hello_world=\"welcome\""
   ]
  },
  {
   "cell_type": "code",
   "execution_count": 6,
   "id": "1eaa99ce",
   "metadata": {},
   "outputs": [],
   "source": [
    "hello_world12=\"welcome\""
   ]
  },
  {
   "cell_type": "code",
   "execution_count": 12,
   "id": "e33d528d",
   "metadata": {},
   "outputs": [
    {
     "name": "stdout",
     "output_type": "stream",
     "text": [
      "3\n"
     ]
    },
    {
     "data": {
      "text/plain": [
       "2"
      ]
     },
     "execution_count": 12,
     "metadata": {},
     "output_type": "execute_result"
    }
   ],
   "source": [
    "a=1\n",
    "b=2\n",
    "print(a+b)\n",
    "a-b\n",
    "a*b"
   ]
  },
  {
   "cell_type": "code",
   "execution_count": 20,
   "id": "0810de71",
   "metadata": {},
   "outputs": [
    {
     "name": "stdout",
     "output_type": "stream",
     "text": [
      "Enter any number:4\n",
      "<class 'str'>\n",
      "Enter any number:4\n",
      "<class 'int'>\n"
     ]
    }
   ],
   "source": [
    "a=input(\"Enter any number:\")\n",
    "print(type(a))\n",
    "b=int(input(\"Enter any number:\"))\n",
    "print(type(b))"
   ]
  },
  {
   "cell_type": "code",
   "execution_count": 22,
   "id": "c5d4c43f",
   "metadata": {},
   "outputs": [
    {
     "name": "stdout",
     "output_type": "stream",
     "text": [
      "Enter any number:4\n",
      "Enter any number:4\n",
      "256\n"
     ]
    }
   ],
   "source": [
    "a=int(input(\"Enter any number:\"))\n",
    "b=int(input(\"Enter any number:\"))\n",
    "print(a**b)"
   ]
  },
  {
   "cell_type": "code",
   "execution_count": 23,
   "id": "97d524a1",
   "metadata": {},
   "outputs": [
    {
     "name": "stdout",
     "output_type": "stream",
     "text": [
      "Enter your name:Preethika\n",
      "Enter your age:19\n",
      "My name is Preethika and age is 19\n"
     ]
    }
   ],
   "source": [
    "name=input(\"Enter your name:\")\n",
    "age=int(input(\"Enter your age:\"))\n",
    "print(f\"My name is {name} and age is {age}\")\n",
    "#name=input(\"Enter your name:\")\n",
    "#age=int(input(\"Enter your age:\"))\n",
    "#print(f\"{name} {age}\")"
   ]
  },
  {
   "cell_type": "code",
   "execution_count": 27,
   "id": "487e9439",
   "metadata": {},
   "outputs": [
    {
     "name": "stdout",
     "output_type": "stream",
     "text": [
      "integer2\n",
      "integer4\n",
      "True\n"
     ]
    }
   ],
   "source": [
    "aa=int(input(\"integer\"))\n",
    "bb=int(input(\"integer\"))\n",
    "print(aa<bb)"
   ]
  },
  {
   "cell_type": "code",
   "execution_count": 29,
   "id": "3b3f4de2",
   "metadata": {},
   "outputs": [
    {
     "name": "stdout",
     "output_type": "stream",
     "text": [
      "False\n",
      "True\n"
     ]
    }
   ],
   "source": [
    "print(2!=2)\n",
    "print(2==2)"
   ]
  },
  {
   "cell_type": "code",
   "execution_count": 32,
   "id": "398c8683",
   "metadata": {},
   "outputs": [
    {
     "name": "stdout",
     "output_type": "stream",
     "text": [
      "False\n",
      "False\n"
     ]
    }
   ],
   "source": [
    "c=10\n",
    "b=20\n",
    "a=30\n",
    "print(c>b and c>a)\n",
    "print(c>b or c>a)"
   ]
  },
  {
   "cell_type": "code",
   "execution_count": 35,
   "id": "30da1b28",
   "metadata": {},
   "outputs": [
    {
     "name": "stdout",
     "output_type": "stream",
     "text": [
      "False\n"
     ]
    }
   ],
   "source": [
    "x=1\n",
    "y=not x\n",
    "print(y)"
   ]
  },
  {
   "cell_type": "code",
   "execution_count": 36,
   "id": "bcf0f923",
   "metadata": {},
   "outputs": [
    {
     "name": "stdout",
     "output_type": "stream",
     "text": [
      "True\n"
     ]
    }
   ],
   "source": [
    "a=200\n",
    "b=575\n",
    "c=400\n",
    "print(a>b and a<=c or b>c)"
   ]
  },
  {
   "cell_type": "code",
   "execution_count": 1,
   "id": "61297cde",
   "metadata": {},
   "outputs": [],
   "source": [
    "a=\"machine learning\""
   ]
  },
  {
   "cell_type": "code",
   "execution_count": 5,
   "id": "b60920fc",
   "metadata": {},
   "outputs": [
    {
     "data": {
      "text/plain": [
       "'machine'"
      ]
     },
     "execution_count": 5,
     "metadata": {},
     "output_type": "execute_result"
    }
   ],
   "source": [
    "a[0:7]"
   ]
  },
  {
   "cell_type": "code",
   "execution_count": 11,
   "id": "126bde14",
   "metadata": {},
   "outputs": [
    {
     "data": {
      "text/plain": [
       "'machine l'"
      ]
     },
     "execution_count": 11,
     "metadata": {},
     "output_type": "execute_result"
    }
   ],
   "source": [
    "a[:9]"
   ]
  },
  {
   "cell_type": "code",
   "execution_count": 14,
   "id": "1256ad42",
   "metadata": {},
   "outputs": [
    {
     "data": {
      "text/plain": [
       "'machine learning'"
      ]
     },
     "execution_count": 14,
     "metadata": {},
     "output_type": "execute_result"
    }
   ],
   "source": [
    "a[0:]"
   ]
  },
  {
   "cell_type": "code",
   "execution_count": 28,
   "id": "6ddf6b34",
   "metadata": {},
   "outputs": [
    {
     "data": {
      "text/plain": [
       "'mciel'"
      ]
     },
     "execution_count": 28,
     "metadata": {},
     "output_type": "execute_result"
    }
   ],
   "source": [
    "a[0:9:2]"
   ]
  },
  {
   "cell_type": "code",
   "execution_count": 24,
   "id": "793c0b76",
   "metadata": {},
   "outputs": [
    {
     "data": {
      "text/plain": [
       "'el en'"
      ]
     },
     "execution_count": 24,
     "metadata": {},
     "output_type": "execute_result"
    }
   ],
   "source": [
    "a[9:4:-1]"
   ]
  },
  {
   "cell_type": "code",
   "execution_count": 25,
   "id": "3c550a32",
   "metadata": {},
   "outputs": [
    {
     "data": {
      "text/plain": [
       "'ninrael en'"
      ]
     },
     "execution_count": 25,
     "metadata": {},
     "output_type": "execute_result"
    }
   ],
   "source": [
    "a[14:4:-1]"
   ]
  },
  {
   "cell_type": "code",
   "execution_count": 26,
   "id": "74691285",
   "metadata": {},
   "outputs": [
    {
     "data": {
      "text/plain": [
       "'nnale'"
      ]
     },
     "execution_count": 26,
     "metadata": {},
     "output_type": "execute_result"
    }
   ],
   "source": [
    "a[14:4:-2]"
   ]
  },
  {
   "cell_type": "code",
   "execution_count": 29,
   "id": "81522459",
   "metadata": {},
   "outputs": [
    {
     "data": {
      "text/plain": [
       "'nrln'"
      ]
     },
     "execution_count": 29,
     "metadata": {},
     "output_type": "execute_result"
    }
   ],
   "source": [
    "a[14:4:-3]"
   ]
  },
  {
   "cell_type": "code",
   "execution_count": 31,
   "id": "ce6823f1",
   "metadata": {},
   "outputs": [
    {
     "data": {
      "text/plain": [
       "'welcome hi'"
      ]
     },
     "execution_count": 31,
     "metadata": {},
     "output_type": "execute_result"
    }
   ],
   "source": [
    "b=\"welcome\"\n",
    "f=\" hi\"\n",
    "b+f"
   ]
  },
  {
   "cell_type": "code",
   "execution_count": 33,
   "id": "18d353fd",
   "metadata": {},
   "outputs": [
    {
     "data": {
      "text/plain": [
       "'hi hi '"
      ]
     },
     "execution_count": 33,
     "metadata": {},
     "output_type": "execute_result"
    }
   ],
   "source": [
    "f=\"hi \"\n",
    "f*2"
   ]
  },
  {
   "cell_type": "code",
   "execution_count": 35,
   "id": "56bf01b5",
   "metadata": {},
   "outputs": [],
   "source": [
    "a=\"DEEP learning\""
   ]
  },
  {
   "cell_type": "code",
   "execution_count": 36,
   "id": "993131ee",
   "metadata": {},
   "outputs": [
    {
     "data": {
      "text/plain": [
       "'deep learning'"
      ]
     },
     "execution_count": 36,
     "metadata": {},
     "output_type": "execute_result"
    }
   ],
   "source": [
    "a.lower()"
   ]
  },
  {
   "cell_type": "code",
   "execution_count": 38,
   "id": "e90eca88",
   "metadata": {},
   "outputs": [
    {
     "data": {
      "text/plain": [
       "'DEEP LEARNING'"
      ]
     },
     "execution_count": 38,
     "metadata": {},
     "output_type": "execute_result"
    }
   ],
   "source": [
    "a.upper()"
   ]
  },
  {
   "cell_type": "code",
   "execution_count": 39,
   "id": "c3b62ff7",
   "metadata": {},
   "outputs": [
    {
     "data": {
      "text/plain": [
       "['DEEP', 'learning']"
      ]
     },
     "execution_count": 39,
     "metadata": {},
     "output_type": "execute_result"
    }
   ],
   "source": [
    "a.split()"
   ]
  },
  {
   "cell_type": "code",
   "execution_count": 41,
   "id": "1681eca0",
   "metadata": {},
   "outputs": [
    {
     "data": {
      "text/plain": [
       "'machine learning'"
      ]
     },
     "execution_count": 41,
     "metadata": {},
     "output_type": "execute_result"
    }
   ],
   "source": [
    "a.replace('DEEP','machine')"
   ]
  },
  {
   "cell_type": "code",
   "execution_count": null,
   "id": "ecd904b4",
   "metadata": {},
   "outputs": [],
   "source": [
    "#join(),title,isalnum"
   ]
  },
  {
   "cell_type": "code",
   "execution_count": 7,
   "id": "a758a329",
   "metadata": {},
   "outputs": [
    {
     "data": {
      "text/plain": [
       "[1, 3, 4, 45, 'hi', True, 3.0]"
      ]
     },
     "execution_count": 7,
     "metadata": {},
     "output_type": "execute_result"
    }
   ],
   "source": [
    "first_lst=[1,3,4,45,\"hi\",True,3.0]\n",
    "first_lst"
   ]
  },
  {
   "cell_type": "code",
   "execution_count": 6,
   "id": "207e2219",
   "metadata": {},
   "outputs": [
    {
     "data": {
      "text/plain": [
       "'hi'"
      ]
     },
     "execution_count": 6,
     "metadata": {},
     "output_type": "execute_result"
    }
   ],
   "source": [
    "first_lst=[1,3,4,45,\"hi\",True,3.0]\n",
    "first_lst[4]"
   ]
  },
  {
   "cell_type": "code",
   "execution_count": 8,
   "id": "40dd087d",
   "metadata": {},
   "outputs": [
    {
     "name": "stdout",
     "output_type": "stream",
     "text": [
      "['Accuracy', 'precision', 'Recall', 'F1score', 'AUC_ROC_Score']\n"
     ]
    }
   ],
   "source": [
    "metrics=[\"Accuracy\",\"precision\",\"Recall\",\"F1score\",\"AUC_ROC_Score\"]\n",
    "print(metrics)"
   ]
  },
  {
   "cell_type": "code",
   "execution_count": 14,
   "id": "5bcfcb52",
   "metadata": {},
   "outputs": [
    {
     "data": {
      "text/plain": [
       "'Accuracy'"
      ]
     },
     "execution_count": 14,
     "metadata": {},
     "output_type": "execute_result"
    }
   ],
   "source": [
    "metrics[0]"
   ]
  },
  {
   "cell_type": "code",
   "execution_count": 15,
   "id": "dd96d1b2",
   "metadata": {},
   "outputs": [
    {
     "data": {
      "text/plain": [
       "'F1score'"
      ]
     },
     "execution_count": 15,
     "metadata": {},
     "output_type": "execute_result"
    }
   ],
   "source": [
    "metrics[3]"
   ]
  },
  {
   "cell_type": "code",
   "execution_count": 16,
   "id": "0bca3fff",
   "metadata": {},
   "outputs": [
    {
     "data": {
      "text/plain": [
       "'Recall'"
      ]
     },
     "execution_count": 16,
     "metadata": {},
     "output_type": "execute_result"
    }
   ],
   "source": [
    "metrics[-3]"
   ]
  },
  {
   "cell_type": "code",
   "execution_count": 17,
   "id": "045e99cf",
   "metadata": {},
   "outputs": [
    {
     "data": {
      "text/plain": [
       "['Accuracy', 'precision', 'Recall', 'F1score', 'AUC_ROC_Score']"
      ]
     },
     "execution_count": 17,
     "metadata": {},
     "output_type": "execute_result"
    }
   ],
   "source": [
    "metrics"
   ]
  },
  {
   "cell_type": "code",
   "execution_count": 18,
   "id": "7c566814",
   "metadata": {},
   "outputs": [
    {
     "data": {
      "text/plain": [
       "['Accuracy', 'precision', 'Recall', 'F1score', 'AUC_ROC_Score']"
      ]
     },
     "execution_count": 18,
     "metadata": {},
     "output_type": "execute_result"
    }
   ],
   "source": [
    "metrics[0:5]"
   ]
  },
  {
   "cell_type": "code",
   "execution_count": 19,
   "id": "63ef22c6",
   "metadata": {},
   "outputs": [
    {
     "data": {
      "text/plain": [
       "['Accuracy', 'precision', 'Recall', 'F1score', 'AUC_ROC_Score']"
      ]
     },
     "execution_count": 19,
     "metadata": {},
     "output_type": "execute_result"
    }
   ],
   "source": [
    "metrics[0:]"
   ]
  },
  {
   "cell_type": "code",
   "execution_count": 22,
   "id": "66382bdc",
   "metadata": {},
   "outputs": [
    {
     "data": {
      "text/plain": [
       "['Accuracy', 'precision', 'Recall']"
      ]
     },
     "execution_count": 22,
     "metadata": {},
     "output_type": "execute_result"
    }
   ],
   "source": [
    "metrics[:3]"
   ]
  },
  {
   "cell_type": "code",
   "execution_count": 23,
   "id": "f4cacaa8",
   "metadata": {},
   "outputs": [
    {
     "data": {
      "text/plain": [
       "['precision']"
      ]
     },
     "execution_count": 23,
     "metadata": {},
     "output_type": "execute_result"
    }
   ],
   "source": [
    "metrics[1:-3]"
   ]
  },
  {
   "cell_type": "code",
   "execution_count": 35,
   "id": "498982b4",
   "metadata": {},
   "outputs": [
    {
     "data": {
      "text/plain": [
       "[]"
      ]
     },
     "execution_count": 35,
     "metadata": {},
     "output_type": "execute_result"
    }
   ],
   "source": [
    "metrics[1:1]"
   ]
  },
  {
   "cell_type": "code",
   "execution_count": 40,
   "id": "a2537625",
   "metadata": {},
   "outputs": [
    {
     "data": {
      "text/plain": [
       "['Accuracy', 'F1score']"
      ]
     },
     "execution_count": 40,
     "metadata": {},
     "output_type": "execute_result"
    }
   ],
   "source": [
    "metrics[0:5:3]"
   ]
  },
  {
   "cell_type": "code",
   "execution_count": 49,
   "id": "dc0dd949",
   "metadata": {},
   "outputs": [
    {
     "data": {
      "text/plain": [
       "[]"
      ]
     },
     "execution_count": 49,
     "metadata": {},
     "output_type": "execute_result"
    }
   ],
   "source": [
    "metrics[0:4:-1]"
   ]
  },
  {
   "cell_type": "code",
   "execution_count": 51,
   "id": "d5b2cc7b",
   "metadata": {},
   "outputs": [
    {
     "name": "stdout",
     "output_type": "stream",
     "text": [
      "['Accuracy', 'precision', 'Recall', 'F1score', 'AUC_ROC_Score', 'Hi', 'Hey']\n"
     ]
    }
   ],
   "source": [
    "print(metrics+[\"Hi\",\"Hey\"])"
   ]
  },
  {
   "cell_type": "code",
   "execution_count": 52,
   "id": "5ed718da",
   "metadata": {},
   "outputs": [
    {
     "data": {
      "text/plain": [
       "['Accuracy', 'precision', 'Recall', 'F1score', 'AUC_ROC_Score']"
      ]
     },
     "execution_count": 52,
     "metadata": {},
     "output_type": "execute_result"
    }
   ],
   "source": [
    "metrics"
   ]
  },
  {
   "cell_type": "code",
   "execution_count": 54,
   "id": "b649b370",
   "metadata": {},
   "outputs": [
    {
     "data": {
      "text/plain": [
       "['Accuracy', 'precision', 'Recall', 'F1score', 'AUC_ROC_Score', 'Hi', 'Hey']"
      ]
     },
     "execution_count": 54,
     "metadata": {},
     "output_type": "execute_result"
    }
   ],
   "source": [
    "metrics=metrics+[\"Hi\",\"Hey\"]\n",
    "metrics"
   ]
  },
  {
   "cell_type": "code",
   "execution_count": 68,
   "id": "d886b3ed",
   "metadata": {},
   "outputs": [],
   "source": [
    "lis=[1,2,3,4,'ArithmeticError','amity','hello','hi',['a','b'],[1,2]]"
   ]
  },
  {
   "cell_type": "code",
   "execution_count": 69,
   "id": "07f8a7e8",
   "metadata": {},
   "outputs": [
    {
     "data": {
      "text/plain": [
       "[1,\n",
       " 2,\n",
       " 3,\n",
       " 4,\n",
       " 'ArithmeticError',\n",
       " 'amity',\n",
       " 'hello',\n",
       " 'hi',\n",
       " ['a', 'b'],\n",
       " [1, 2],\n",
       " 2,\n",
       " 'hey']"
      ]
     },
     "execution_count": 69,
     "metadata": {},
     "output_type": "execute_result"
    }
   ],
   "source": [
    "lis.append(2)\n",
    "lis.append(\"hey\")  ## appends as  last element of list\n",
    "lis"
   ]
  },
  {
   "cell_type": "code",
   "execution_count": 70,
   "id": "d54ae642",
   "metadata": {},
   "outputs": [
    {
     "data": {
      "text/plain": [
       "'hey'"
      ]
     },
     "execution_count": 70,
     "metadata": {},
     "output_type": "execute_result"
    }
   ],
   "source": [
    "lis.pop()"
   ]
  },
  {
   "cell_type": "code",
   "execution_count": 71,
   "id": "79fcb1e6",
   "metadata": {},
   "outputs": [
    {
     "data": {
      "text/plain": [
       "'ArithmeticError'"
      ]
     },
     "execution_count": 71,
     "metadata": {},
     "output_type": "execute_result"
    }
   ],
   "source": [
    "lis.pop(4)"
   ]
  },
  {
   "cell_type": "code",
   "execution_count": 72,
   "id": "ca9af53c",
   "metadata": {},
   "outputs": [
    {
     "name": "stdout",
     "output_type": "stream",
     "text": [
      "[1, 2, 3, 4, 'amity', 'hello', 'hi', ['a', 'b'], [1, 2], 2]\n"
     ]
    }
   ],
   "source": [
    "print(lis)"
   ]
  },
  {
   "cell_type": "code",
   "execution_count": 73,
   "id": "fe84e23c",
   "metadata": {},
   "outputs": [
    {
     "ename": "TypeError",
     "evalue": "'int' object is not iterable",
     "output_type": "error",
     "traceback": [
      "\u001b[1;31m---------------------------------------------------------------------------\u001b[0m",
      "\u001b[1;31mTypeError\u001b[0m                                 Traceback (most recent call last)",
      "Cell \u001b[1;32mIn[73], line 1\u001b[0m\n\u001b[1;32m----> 1\u001b[0m \u001b[43mlis\u001b[49m\u001b[38;5;241;43m.\u001b[39;49m\u001b[43mextend\u001b[49m\u001b[43m(\u001b[49m\u001b[38;5;241;43m2\u001b[39;49m\u001b[43m)\u001b[49m\n",
      "\u001b[1;31mTypeError\u001b[0m: 'int' object is not iterable"
     ]
    }
   ],
   "source": [
    "lis.extend(2)"
   ]
  },
  {
   "cell_type": "code",
   "execution_count": 78,
   "id": "bf097702",
   "metadata": {},
   "outputs": [
    {
     "ename": "TypeError",
     "evalue": "'int' object is not iterable",
     "output_type": "error",
     "traceback": [
      "\u001b[1;31m---------------------------------------------------------------------------\u001b[0m",
      "\u001b[1;31mTypeError\u001b[0m                                 Traceback (most recent call last)",
      "Cell \u001b[1;32mIn[78], line 1\u001b[0m\n\u001b[1;32m----> 1\u001b[0m \u001b[43mlis\u001b[49m\u001b[38;5;241;43m.\u001b[39;49m\u001b[43mextend\u001b[49m\u001b[43m(\u001b[49m\u001b[38;5;241;43m2\u001b[39;49m\u001b[43m)\u001b[49m\n",
      "\u001b[1;31mTypeError\u001b[0m: 'int' object is not iterable"
     ]
    }
   ],
   "source": [
    "lis.extend(2)"
   ]
  },
  {
   "cell_type": "code",
   "execution_count": 81,
   "id": "13867da5",
   "metadata": {},
   "outputs": [
    {
     "data": {
      "text/plain": [
       "[1,\n",
       " 2,\n",
       " 3,\n",
       " 4,\n",
       " 'amity',\n",
       " 'hello',\n",
       " 'hi',\n",
       " ['a', 'b'],\n",
       " [1, 2],\n",
       " 2,\n",
       " 2,\n",
       " 'ji',\n",
       " 3,\n",
       " 'ji',\n",
       " 4,\n",
       " 'ji',\n",
       " 2,\n",
       " 'ab',\n",
       " 2,\n",
       " 'ji',\n",
       " 2,\n",
       " 'ji',\n",
       " 1,\n",
       " 'ji']"
      ]
     },
     "execution_count": 81,
     "metadata": {},
     "output_type": "execute_result"
    }
   ],
   "source": [
    "lis.extend([1,'ji']) #how many times it runs it add those elements that many times end of list\n",
    "lis"
   ]
  },
  {
   "cell_type": "code",
   "execution_count": 90,
   "id": "24d8d694",
   "metadata": {},
   "outputs": [
    {
     "data": {
      "text/plain": [
       "[1,\n",
       " 3,\n",
       " 4,\n",
       " 'amity',\n",
       " 'hello',\n",
       " 'hi',\n",
       " ['a', 'b'],\n",
       " [1, 2],\n",
       " 3,\n",
       " 4,\n",
       " 'ji',\n",
       " 2,\n",
       " 'ab',\n",
       " 2,\n",
       " 'ji',\n",
       " 2,\n",
       " 'ji',\n",
       " 1,\n",
       " 'ji']"
      ]
     },
     "execution_count": 90,
     "metadata": {},
     "output_type": "execute_result"
    }
   ],
   "source": [
    "lis.remove(2)\n",
    "lis"
   ]
  },
  {
   "cell_type": "code",
   "execution_count": 91,
   "id": "e2d43641",
   "metadata": {},
   "outputs": [
    {
     "data": {
      "text/plain": [
       "[4, 'hi', 5, 5, 6, 7]"
      ]
     },
     "execution_count": 91,
     "metadata": {},
     "output_type": "execute_result"
    }
   ],
   "source": [
    "lira=[4,5,5,6,7]## elements are moved to next position\n",
    "lira.insert(1,\"hi\")\n",
    "lira"
   ]
  },
  {
   "cell_type": "code",
   "execution_count": 2,
   "id": "6c7e6c79",
   "metadata": {},
   "outputs": [
    {
     "name": "stdout",
     "output_type": "stream",
     "text": [
      "('raju', 'ravi', 1, 2, 3, 7.8)\n"
     ]
    },
    {
     "data": {
      "text/plain": [
       "tuple"
      ]
     },
     "execution_count": 2,
     "metadata": {},
     "output_type": "execute_result"
    }
   ],
   "source": [
    "ab=(\"raju\",\"ravi\",1,2,3,7.8)\n",
    "print(ab)\n",
    "\n",
    "type(ab)"
   ]
  },
  {
   "cell_type": "code",
   "execution_count": 12,
   "id": "3108f989",
   "metadata": {},
   "outputs": [
    {
     "data": {
      "text/plain": [
       "set"
      ]
     },
     "execution_count": 12,
     "metadata": {},
     "output_type": "execute_result"
    }
   ],
   "source": [
    "s = {1,23}\n",
    "type(s)"
   ]
  },
  {
   "cell_type": "code",
   "execution_count": 13,
   "id": "e23babc4",
   "metadata": {},
   "outputs": [
    {
     "data": {
      "text/plain": [
       "dict"
      ]
     },
     "execution_count": 13,
     "metadata": {},
     "output_type": "execute_result"
    }
   ],
   "source": [
    "d = {1:2 ,4:\"b\"}\n",
    "type(d)"
   ]
  },
  {
   "cell_type": "code",
   "execution_count": 3,
   "id": "b6f3df40",
   "metadata": {},
   "outputs": [
    {
     "data": {
      "text/plain": [
       "5"
      ]
     },
     "execution_count": 3,
     "metadata": {},
     "output_type": "execute_result"
    }
   ],
   "source": [
    "abc=(1, 2, 3, 9, 143, 11.5, 'aditya', 'swathi', 'sujana')\n",
    "abc.index(11.5)"
   ]
  },
  {
   "cell_type": "code",
   "execution_count": 6,
   "id": "113c4048",
   "metadata": {},
   "outputs": [
    {
     "data": {
      "text/plain": [
       "2"
      ]
     },
     "execution_count": 6,
     "metadata": {},
     "output_type": "execute_result"
    }
   ],
   "source": [
    "abc=(1,1,2, 2,2, 3, 9, 143, 11.5, 'aditya', 'swathi', 'sujana')\n",
    "abc.count(1)"
   ]
  },
  {
   "cell_type": "code",
   "execution_count": 7,
   "id": "43a997e1",
   "metadata": {},
   "outputs": [
    {
     "data": {
      "text/plain": [
       "set"
      ]
     },
     "execution_count": 7,
     "metadata": {},
     "output_type": "execute_result"
    }
   ],
   "source": [
    "s = {1,23}\n",
    "type(s)"
   ]
  },
  {
   "cell_type": "code",
   "execution_count": 8,
   "id": "78289d40",
   "metadata": {},
   "outputs": [
    {
     "data": {
      "text/plain": [
       "dict"
      ]
     },
     "execution_count": 8,
     "metadata": {},
     "output_type": "execute_result"
    }
   ],
   "source": [
    "d = {1:2 ,4:\"b\"}\n",
    "type(d)"
   ]
  },
  {
   "cell_type": "code",
   "execution_count": 9,
   "id": "338a2033",
   "metadata": {},
   "outputs": [
    {
     "name": "stdout",
     "output_type": "stream",
     "text": [
      "{1, 2, 'price', (1, 23, 4)}\n"
     ]
    }
   ],
   "source": [
    "s3 ={1,2, \"price\",(1,23,4)}\n",
    "print(s3)"
   ]
  },
  {
   "cell_type": "code",
   "execution_count": 10,
   "id": "19538b3b",
   "metadata": {},
   "outputs": [
    {
     "name": "stdout",
     "output_type": "stream",
     "text": [
      "{1, 2, 3, 34, 343, 43}\n"
     ]
    }
   ],
   "source": [
    "s = {1,2,3,43,43,34,343,43,43}\n",
    "print(s)"
   ]
  },
  {
   "cell_type": "code",
   "execution_count": 11,
   "id": "75d0cb27",
   "metadata": {},
   "outputs": [
    {
     "name": "stdout",
     "output_type": "stream",
     "text": [
      "{1, 2, 3, 4, 35}\n"
     ]
    }
   ],
   "source": [
    "s1 = {4,3,2,1,35,35 ,4}\n",
    "print(s1)"
   ]
  },
  {
   "cell_type": "code",
   "execution_count": 15,
   "id": "1cf2e239",
   "metadata": {},
   "outputs": [
    {
     "data": {
      "text/plain": [
       "{1, 3, 23, 25, 34, 42, 43, 53, 54, 453}"
      ]
     },
     "execution_count": 15,
     "metadata": {},
     "output_type": "execute_result"
    }
   ],
   "source": [
    "l =[1,3,42,3,453,23,23,23,25,34,3,53,54,54,43]\n",
    "\n",
    "l1 =set(l )\n",
    "l1"
   ]
  },
  {
   "cell_type": "code",
   "execution_count": 20,
   "id": "cf0d12f8",
   "metadata": {},
   "outputs": [
    {
     "data": {
      "text/plain": [
       "{1, 2, 3, 4, 6, 76}"
      ]
     },
     "execution_count": 20,
     "metadata": {},
     "output_type": "execute_result"
    }
   ],
   "source": [
    "s={1,2,3,4,2,6}\n",
    "s.add(76)\n",
    "s"
   ]
  },
  {
   "cell_type": "code",
   "execution_count": 22,
   "id": "3668dd6b",
   "metadata": {},
   "outputs": [
    {
     "ename": "KeyError",
     "evalue": "100",
     "output_type": "error",
     "traceback": [
      "\u001b[1;31m---------------------------------------------------------------------------\u001b[0m",
      "\u001b[1;31mKeyError\u001b[0m                                  Traceback (most recent call last)",
      "Cell \u001b[1;32mIn[22], line 1\u001b[0m\n\u001b[1;32m----> 1\u001b[0m \u001b[43ms\u001b[49m\u001b[38;5;241;43m.\u001b[39;49m\u001b[43mremove\u001b[49m\u001b[43m(\u001b[49m\u001b[38;5;241;43m100\u001b[39;49m\u001b[43m)\u001b[49m\n\u001b[0;32m      2\u001b[0m s\n",
      "\u001b[1;31mKeyError\u001b[0m: 100"
     ]
    }
   ],
   "source": [
    "s.remove(100)\n",
    "s"
   ]
  },
  {
   "cell_type": "code",
   "execution_count": 25,
   "id": "4fd96ce2",
   "metadata": {},
   "outputs": [
    {
     "data": {
      "text/plain": [
       "{1, 2, 3, 4, 6}"
      ]
     },
     "execution_count": 25,
     "metadata": {},
     "output_type": "execute_result"
    }
   ],
   "source": [
    "s.discard(100)\n",
    "s"
   ]
  },
  {
   "cell_type": "code",
   "execution_count": 26,
   "id": "22dbba56",
   "metadata": {},
   "outputs": [
    {
     "name": "stdout",
     "output_type": "stream",
     "text": [
      "{1, 2, 3, 5, 6}\n"
     ]
    }
   ],
   "source": [
    "set1 ={1,2,3}\n",
    "set2 ={3,5,6}\n",
    "print(set1 | set2)"
   ]
  },
  {
   "cell_type": "code",
   "execution_count": 27,
   "id": "e7091db6",
   "metadata": {},
   "outputs": [
    {
     "name": "stdout",
     "output_type": "stream",
     "text": [
      "{3}\n"
     ]
    }
   ],
   "source": [
    "set1 ={1,2,3}\n",
    "set2 ={3,5,6}\n",
    "\n",
    "print(set1 &set2)"
   ]
  },
  {
   "cell_type": "code",
   "execution_count": 30,
   "id": "1771539a",
   "metadata": {},
   "outputs": [
    {
     "name": "stdout",
     "output_type": "stream",
     "text": [
      "{1, 2}\n"
     ]
    }
   ],
   "source": [
    "set1 ={1,2,3}\n",
    "set2 ={3,5,6}\n",
    "\n",
    "print(set1 -set2)"
   ]
  },
  {
   "cell_type": "code",
   "execution_count": 31,
   "id": "d518e62e",
   "metadata": {},
   "outputs": [
    {
     "name": "stdout",
     "output_type": "stream",
     "text": [
      "{1, 2, 5, 6}\n"
     ]
    }
   ],
   "source": [
    "print(set1 ^set2)"
   ]
  },
  {
   "cell_type": "code",
   "execution_count": 32,
   "id": "d24c67de",
   "metadata": {},
   "outputs": [
    {
     "data": {
      "text/plain": [
       "{1, 2, 3, 5, 6, 7, 8}"
      ]
     },
     "execution_count": 32,
     "metadata": {},
     "output_type": "execute_result"
    }
   ],
   "source": [
    "s3 ={3,7,8}\n",
    "set1.union(set2,s3)"
   ]
  },
  {
   "cell_type": "code",
   "execution_count": 34,
   "id": "6a6a9d34",
   "metadata": {},
   "outputs": [
    {
     "data": {
      "text/plain": [
       "'Thor'"
      ]
     },
     "execution_count": 34,
     "metadata": {},
     "output_type": "execute_result"
    }
   ],
   "source": [
    "# Make a dictionary with {} and : to signify a key and a value\n",
    "\n",
    "marvel_dict = {'Name':'Thor'   ,  'Place':'Asgard',  'Weapon' : 'Hammer',     1:2,    3 : 'power',    'super_heros' : ['Ironman','Captain America'],  'abc' : {1:2, 4:5}}\n",
    "marvel_dict[\"Name\"]"
   ]
  },
  {
   "cell_type": "code",
   "execution_count": 37,
   "id": "fad6dbe2",
   "metadata": {},
   "outputs": [
    {
     "data": {
      "text/plain": [
       "['Ironman', 'Captain America']"
      ]
     },
     "execution_count": 37,
     "metadata": {},
     "output_type": "execute_result"
    }
   ],
   "source": [
    "marvel_dict[\"super_heros\"]"
   ]
  },
  {
   "cell_type": "code",
   "execution_count": 39,
   "id": "fae0726d",
   "metadata": {},
   "outputs": [
    {
     "name": "stdout",
     "output_type": "stream",
     "text": [
      "{'Name': 'Thor', 'Place': 'Asgard', 'Weapon': 'Hammer', 1: 2, 3: 'power', 'super_heros': ['Ironman', 'Captain America'], 'abc': {1: 2, 4: 5}}\n"
     ]
    }
   ],
   "source": [
    "print(marvel_dict)"
   ]
  },
  {
   "cell_type": "code",
   "execution_count": 40,
   "id": "db90f491",
   "metadata": {},
   "outputs": [
    {
     "data": {
      "text/plain": [
       "dict_values(['Thor', 'Asgard', 'Hammer', 2, 'power', ['Ironman', 'Captain America'], {1: 2, 4: 5}])"
      ]
     },
     "execution_count": 40,
     "metadata": {},
     "output_type": "execute_result"
    }
   ],
   "source": [
    "marvel_dict.values()"
   ]
  },
  {
   "cell_type": "code",
   "execution_count": 38,
   "id": "e6576893",
   "metadata": {},
   "outputs": [
    {
     "data": {
      "text/plain": [
       "['Thor',\n",
       " 'Asgard',\n",
       " 'Hammer',\n",
       " 2,\n",
       " 'power',\n",
       " ['Ironman', 'Captain America'],\n",
       " {1: 2, 4: 5}]"
      ]
     },
     "execution_count": 38,
     "metadata": {},
     "output_type": "execute_result"
    }
   ],
   "source": [
    "list(marvel_dict.values())"
   ]
  },
  {
   "cell_type": "code",
   "execution_count": null,
   "id": "00ea1e41",
   "metadata": {},
   "outputs": [],
   "source": []
  }
 ],
 "metadata": {
  "kernelspec": {
   "display_name": "Python 3 (ipykernel)",
   "language": "python",
   "name": "python3"
  },
  "language_info": {
   "codemirror_mode": {
    "name": "ipython",
    "version": 3
   },
   "file_extension": ".py",
   "mimetype": "text/x-python",
   "name": "python",
   "nbconvert_exporter": "python",
   "pygments_lexer": "ipython3",
   "version": "3.10.9"
  }
 },
 "nbformat": 4,
 "nbformat_minor": 5
}
